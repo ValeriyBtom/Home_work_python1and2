{
 "cells": [
  {
   "cell_type": "code",
   "execution_count": 142,
   "id": "d7de1504-a033-4220-a423-2050401250df",
   "metadata": {},
   "outputs": [
    {
     "name": "stdout",
     "output_type": "stream",
     "text": [
      "Результат:\n",
      "Идеальные пары:\n",
      "Alex и Emma\n",
      "Arthur и Kate\n",
      "John и Liza\n",
      "Peter и Liza\n",
      "Richard и Trisha\n"
     ]
    }
   ],
   "source": [
    "#Выдвигаем гипотезу: лучшие рекомендации получатся, если просто cотсортировать имена по алфавиту и познакомить людей с одинаковыми\n",
    "#индексами после сортировки. Но вы не будете никого знакомить, если кто-то может остаться без пары.\n",
    "boys = ['Peter', 'Alex', 'John', 'Arthur', 'Richard']\n",
    "#boys = ['Peter', 'Alex', 'John', 'Arthur', 'Richard', 'Michael'] #для проверки!!! если кол-во м и ж неравно\n",
    "girls = ['Kate', 'Liza', 'Kira', 'Emma', 'Trisha']\n",
    "\n",
    "if len(boys) == len(girls): #если кол-во мальчиков и девочек одинаково\n",
    "    sort_boys=boys.sort() #сортируем список мальчиков\n",
    "    sort_girls=girls.sort() #сортируем список девочек\n",
    "    print(\"Результат:\\nИдеальные пары:\") #печатаем заголовок\n",
    "    print(f\"{boys[0]} и {girls[0]}\\n{boys[1]} и {girls[1]}\\n{boys[2]} и {girls[3]}\\n{boys[3]} и {girls[3]}\\n{boys[4]} и {girls[4]}\") #выводим пары на экран\n",
    "else:\n",
    "    print(\"Внимание, кто-то может остаться без пары!\") #если мальчиков и девочек неравно, то указываем опасение"
   ]
  },
  {
   "cell_type": "code",
   "execution_count": null,
   "id": "b1a33106-becb-4dff-9ffa-e2214124b292",
   "metadata": {},
   "outputs": [],
   "source": []
  }
 ],
 "metadata": {
  "kernelspec": {
   "display_name": "Python 3 (ipykernel)",
   "language": "python",
   "name": "python3"
  },
  "language_info": {
   "codemirror_mode": {
    "name": "ipython",
    "version": 3
   },
   "file_extension": ".py",
   "mimetype": "text/x-python",
   "name": "python",
   "nbconvert_exporter": "python",
   "pygments_lexer": "ipython3",
   "version": "3.12.7"
  }
 },
 "nbformat": 4,
 "nbformat_minor": 5
}
